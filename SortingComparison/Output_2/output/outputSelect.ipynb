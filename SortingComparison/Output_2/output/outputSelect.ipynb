{
 "cells": [
  {
   "cell_type": "code",
   "execution_count": 25,
   "metadata": {},
   "outputs": [],
   "source": [
    "\n",
    "import os\n",
    "import fnmatch\n",
    "import shutil"
   ]
  },
  {
   "cell_type": "markdown",
   "metadata": {},
   "source": [
    "## For selecting file with given suffix"
   ]
  },
  {
   "cell_type": "code",
   "execution_count": 52,
   "metadata": {},
   "outputs": [],
   "source": [
    "def select_files(path, num):\n",
    "    files = os.listdir(path)\n",
    "    selected_files = fnmatch.filter(files, f'*{num}.csv')\n",
    "    selected_files = [os.path.join(path, f) for f in selected_files]\n",
    "    txt_file = fnmatch.filter(files, f'*.txt')\n",
    "    txt_file = [os.path.join(path, f) for f in txt_file]\n",
    "    for f in txt_file:\n",
    "        selected_files.append(f)\n",
    "    return selected_files\n"
   ]
  },
  {
   "cell_type": "code",
   "execution_count": 53,
   "metadata": {},
   "outputs": [],
   "source": [
    "def copy_files(files, dest_folder):\n",
    "    if not os.path.exists(dest_folder):\n",
    "        os.makedirs(dest_folder)\n",
    "    \n",
    "    for file in files:\n",
    "        try:\n",
    "            shutil.copy(file, dest_folder)\n",
    "        except IOError as e:\n",
    "            print(f\"Unable to copy file. {e}\")\n",
    "        except:\n",
    "            print(f\"Unexpected error: {sys.exc_info()}\")"
   ]
  },
  {
   "cell_type": "code",
   "execution_count": 54,
   "metadata": {},
   "outputs": [],
   "source": [
    "path = 'bubble/'\n",
    "dest_folder = 'output_selected/bubble/'\n",
    "file_to_copy = select_files(path, 3)\n",
    "file_to_copy\n",
    "copy_files(file_to_copy, dest_folder)"
   ]
  },
  {
   "cell_type": "code",
   "execution_count": null,
   "metadata": {},
   "outputs": [],
   "source": []
  }
 ],
 "metadata": {
  "kernelspec": {
   "display_name": "Python 3",
   "language": "python",
   "name": "python3"
  },
  "language_info": {
   "codemirror_mode": {
    "name": "ipython",
    "version": 3
   },
   "file_extension": ".py",
   "mimetype": "text/x-python",
   "name": "python",
   "nbconvert_exporter": "python",
   "pygments_lexer": "ipython3",
   "version": "3.11.4"
  }
 },
 "nbformat": 4,
 "nbformat_minor": 2
}
