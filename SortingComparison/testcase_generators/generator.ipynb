{
 "cells": [
  {
   "cell_type": "markdown",
   "metadata": {},
   "source": [
    "# Python for generating dataset 2"
   ]
  },
  {
   "cell_type": "code",
   "execution_count": 28,
   "metadata": {},
   "outputs": [],
   "source": [
    "import random"
   ]
  },
  {
   "cell_type": "code",
   "execution_count": 29,
   "metadata": {},
   "outputs": [],
   "source": [
    "n = 200\n",
    "randomset = random.sample(range(4*(10**9)),n)"
   ]
  },
  {
   "cell_type": "code",
   "execution_count": 43,
   "metadata": {},
   "outputs": [],
   "source": [
    "size = [5000,30000,60000,250000,500000,750000]"
   ]
  },
  {
   "cell_type": "code",
   "execution_count": 46,
   "metadata": {},
   "outputs": [],
   "source": [
    "path = f'C:/Folders/Coding/CPE231/SortingComparison/testcases_2'"
   ]
  },
  {
   "cell_type": "markdown",
   "metadata": {},
   "source": [
    "# 1. Repeated Value"
   ]
  },
  {
   "cell_type": "code",
   "execution_count": 49,
   "metadata": {},
   "outputs": [],
   "source": [
    "for s in size:\n",
    "    with open(f'{path}/int_1_rep_unique_{s}.txt', 'w') as f:\n",
    "        f.write(f'{s}\\n')\n",
    "        randomset = random.sample(range(4*(10**9)),1)\n",
    "        for i in range(s):\n",
    "            f.write(f'{randomset[0]}\\n')\n",
    "    "
   ]
  },
  {
   "cell_type": "markdown",
   "metadata": {},
   "source": [
    "# 2. Random number"
   ]
  },
  {
   "cell_type": "markdown",
   "metadata": {},
   "source": [
    "### 2.1 Unique"
   ]
  },
  {
   "cell_type": "code",
   "execution_count": 51,
   "metadata": {},
   "outputs": [],
   "source": [
    "for s in size:\n",
    "    with open(f'{path}/int_2_random_unique_{s}.txt', 'w') as f:\n",
    "        f.write(f'{s}\\n')\n",
    "        randomset = random.sample(range(4*(10**9)),s)\n",
    "        for i in range(s):\n",
    "            f.write(f'{randomset[i]}\\n')"
   ]
  },
  {
   "cell_type": "markdown",
   "metadata": {},
   "source": [
    "### 2.2 Rep 30%"
   ]
  },
  {
   "cell_type": "code",
   "execution_count": null,
   "metadata": {},
   "outputs": [],
   "source": [
    "for s in size:\n",
    "    with open(f'{path}/int_2_random_rep30_{s}.txt', 'w') as f:\n",
    "        f.write(f'{s}\\n')\n",
    "        num_rep = int(s * 0.3)\n",
    "        num_uni = s - num_rep\n",
    "        rep = random.randint(0,4*(10**9))\n",
    "        randomset = [rep] * num_rep\n",
    "        \n",
    "        unique_set = random.sample([i for i in range(4*(10**9)) if i != rep],num_uni)\n",
    "\n",
    "        randomset.extend(unique_set)\n",
    "        random.shuffle(randomset)\n",
    "        for i in range(s):\n",
    "            f.write(f'{randomset[i]}\\n')"
   ]
  },
  {
   "cell_type": "markdown",
   "metadata": {},
   "source": []
  },
  {
   "cell_type": "code",
   "execution_count": null,
   "metadata": {},
   "outputs": [],
   "source": []
  }
 ],
 "metadata": {
  "kernelspec": {
   "display_name": "Python 3",
   "language": "python",
   "name": "python3"
  },
  "language_info": {
   "codemirror_mode": {
    "name": "ipython",
    "version": 3
   },
   "file_extension": ".py",
   "mimetype": "text/x-python",
   "name": "python",
   "nbconvert_exporter": "python",
   "pygments_lexer": "ipython3",
   "version": "3.11.4"
  }
 },
 "nbformat": 4,
 "nbformat_minor": 2
}
