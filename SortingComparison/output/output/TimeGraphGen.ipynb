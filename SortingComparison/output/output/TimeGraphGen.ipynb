{
 "cells": [
  {
   "cell_type": "markdown",
   "metadata": {},
   "source": [
    "# Time Comsumed Graph generator"
   ]
  },
  {
   "cell_type": "code",
   "execution_count": 7,
   "metadata": {},
   "outputs": [],
   "source": [
    "import pandas as pd\n",
    "import matplotlib.pyplot as plt\n",
    "import glob\n",
    "import numpy as np"
   ]
  },
  {
   "cell_type": "markdown",
   "metadata": {},
   "source": [
    "### 1. Bubble Sort"
   ]
  },
  {
   "cell_type": "code",
   "execution_count": 9,
   "metadata": {},
   "outputs": [
    {
     "name": "stdout",
     "output_type": "stream",
     "text": [
      "Mean of bubble\\output_int_1_Rep_Unique_1000.txt = 2.3461999999999996\n",
      "Mean of bubble\\output_int_1_Rep_Unique_10000.txt = 270.2156\n",
      "Mean of bubble\\output_int_1_Rep_Unique_100000.txt = 25762.1288\n",
      "Mean of bubble\\output_int_1_Rep_Unique_1000000.txt = 2728637.916\n",
      "Mean of bubble\\output_int_2_random_rep30_1000.txt = 3.7391999999999994\n",
      "Mean of bubble\\output_int_2_random_rep30_10000.txt = 338.0962\n",
      "Mean of bubble\\output_int_2_Random_Rep30_100000.txt = 40059.3948\n",
      "Mean of bubble\\output_int_2_random_Rep30_1000000.txt = 3810710.6286\n",
      "Mean of bubble\\output_int_2_Random_Unique_1000.txt = 0.298\n",
      "Mean of bubble\\output_int_2_Random_Unique_10000.txt = 391.3344\n",
      "Mean of bubble\\output_int_2_random_unique_100000.txt = 42011.740600000005\n",
      "Mean of bubble\\output_int_2_random_unique_1000000.txt = 4134708.7120000003\n",
      "Mean of bubble\\output_int_3_RevertSorted_Rep30_1000.txt = 3.5829999999999997\n",
      "Mean of bubble\\output_int_3_RevertSorted_Rep30_10000.txt = 341.0476\n",
      "Mean of bubble\\output_int_3_RevertSorted_Rep30_100000.txt = 32498.8668\n",
      "Mean of bubble\\output_int_3_RevertSorted_Rep30_1000000.txt = 3437759.7181999995\n",
      "Mean of bubble\\output_int_3_RevertSorted_unique_1000.txt = 3.6450000000000005\n",
      "Mean of bubble\\output_int_3_RevertSorted_unique_10000.txt = 330.431\n",
      "Mean of bubble\\output_int_3_RevertSorted_unique_100000.txt = 33497.7474\n",
      "Mean of bubble\\output_int_3_RevertSorted_unique_1000000.txt = 3363222.507\n",
      "Mean of bubble\\output_int_4_AlmostSorted_50_rep30_1000.txt = 3.5397999999999996\n",
      "Mean of bubble\\output_int_4_AlmostSorted_50_rep30_10000.txt = 375.0232\n",
      "Mean of bubble\\output_int_4_AlmostSorted_50_rep30_100000.txt = 40825.8996\n",
      "Mean of bubble\\output_int_4_AlmostSorted_50_rep30_1000000.txt = 4102758.6516000004\n",
      "Mean of bubble\\output_int_4_Almostsorted_50_Unique_1000.txt = 3.4330000000000007\n",
      "Mean of bubble\\output_int_4_Almostsorted_50_Unique_10000.txt = 346.5306\n",
      "Mean of bubble\\output_int_4_Almostsorted_50_Unique_100000.txt = 38501.8412\n",
      "Mean of bubble\\output_int_4_Almostsorted_50_Unique_1000000.txt = 3701387.911\n",
      "Mean of bubble\\output_int_4_AlmostSorted_80_rep30_1000.txt = 3.3606000000000003\n",
      "Mean of bubble\\output_int_4_AlmostSorted_80_rep30_10000.txt = 297.04740000000004\n",
      "Mean of bubble\\output_int_4_AlmostSorted_80_rep30_100000.txt = 33310.397600000004\n",
      "Mean of bubble\\output_int_4_AlmostSorted_80_rep30_1000000.txt = 3198249.2636\n",
      "Mean of bubble\\output_int_4_AlmostSorted_80_Unique_1000.txt = 3.1957999999999998\n",
      "Mean of bubble\\output_int_4_AlmostSorted_80_Unique_10000.txt = 300.6156\n",
      "Mean of bubble\\output_int_4_AlmostSorted_80_Unique_100000.txt = 32103.985999999997\n",
      "Mean of bubble\\output_int_4_AlmostSorted_80_Unique_1000000.txt = 3115365.6984\n",
      "Mean of bubble\\output_int_5_sorted_Rep30_1000.txt = 3.0784\n",
      "Mean of bubble\\output_int_5_sorted_Rep30_10000.txt = 257.1096\n",
      "Mean of bubble\\output_int_5_sorted_Rep30_100000.txt = 27187.7012\n",
      "Mean of bubble\\output_int_5_sorted_Rep30_1000000.txt = 2616527.4046\n",
      "Mean of bubble\\output_int_5_sorted_Unique_1000.txt = 2.8950000000000005\n",
      "Mean of bubble\\output_int_5_sorted_Unique_10000.txt = 256.4948\n",
      "Mean of bubble\\output_int_5_sorted_Unique_100000.txt = 27188.193199999998\n",
      "Mean of bubble\\output_int_5_sorted_Unique_1000000.txt = 2618173.1862\n"
     ]
    }
   ],
   "source": [
    "time_files = glob.glob('bubble/*.txt')\n",
    "for files in time_files:\n",
    "    data = []\n",
    "    with open(files, 'r') as f:\n",
    "        data.extend([float(line.strip()) for line in f.readlines()])\n",
    "    mean = np.mean(data)\n",
    "    print(f'Mean of {files} = {mean}')"
   ]
  },
  {
   "cell_type": "code",
   "execution_count": null,
   "metadata": {},
   "outputs": [],
   "source": []
  }
 ],
 "metadata": {
  "kernelspec": {
   "display_name": "Python 3",
   "language": "python",
   "name": "python3"
  },
  "language_info": {
   "codemirror_mode": {
    "name": "ipython",
    "version": 3
   },
   "file_extension": ".py",
   "mimetype": "text/x-python",
   "name": "python",
   "nbconvert_exporter": "python",
   "pygments_lexer": "ipython3",
   "version": "3.11.4"
  }
 },
 "nbformat": 4,
 "nbformat_minor": 2
}
